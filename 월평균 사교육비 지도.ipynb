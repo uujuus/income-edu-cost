{
 "cells": [
  {
   "cell_type": "code",
   "execution_count": 1,
   "id": "a9d3fcb3",
   "metadata": {},
   "outputs": [],
   "source": [
    "import folium\n",
    "import json\n",
    "import pandas as pd\n",
    "# 데이터\n",
    "data = {\n",
    "    '시도별': ['서울특별시', '부산광역시', '대구광역시', '인천광역시', '광주광역시', '대전광역시', '울산광역시', '세종특별자치시', '경기도', '강원도', '충청북도', '충청남도', '전라북도', '전라남도', '경상북도', '경상남도', '제주특별자치도'],\n",
    "    '2021': [25256, 21352, 21046, 21317, 22472, 22730, 25165, 22061, 21937, 21038, 21081, 21262, 20862, 20881, 20667, 20650, 20475]\n",
    "}\n",
    "income_geo = json.load(open('TL_SCCO_CTPRVN.json', encoding='utf8'))"
   ]
  },
  {
   "cell_type": "code",
   "execution_count": 27,
   "id": "4458345f",
   "metadata": {},
   "outputs": [],
   "source": [
    "import folium\n",
    "import json\n",
    "import pandas as pd\n",
    "import requests\n",
    "\n",
    "# 데이터\n",
    "data = {\n",
    "    '시도별': ['서울특별시', '부산광역시', '대구광역시', '인천광역시', '광주광역시', '대전광역시', '울산광역시', '세종특별자치시', '경기도', '강원도', '충청북도', '충청남도', '전라북도', '전라남도', '경상북도', '경상남도', '제주특별자치도'],\n",
    "    '2021': [47.3, 32.8, 37.4, 29.8, 27.4, 34.1, 26.7, 33.1, 34.6, 24.6, 27.9, 23.3, 23.9, 22.4, 26.4, 24.9, 27.0],\n",
    "}\n",
    "df = pd.DataFrame(data)\n",
    "# 한국 시도별 GeoJSON 파일 다운로드: 예시 링크 (출처: 공공데이터포털)\n",
    "geo_json_url = \"https://raw.githubusercontent.com/southkorea/southkorea-maps/master/kostat/2013/json/skorea_provinces_geo_simple.json\"\n",
    "\n",
    "# GeoJSON 데이터 가져오기\n",
    "geo_json = json.loads(requests.get(geo_json_url).text)\n",
    "\n",
    "# 데이터와 GeoJSON을 DataFrame으로 통합\n",
    "df = pd.DataFrame(data)\n",
    "m = folium.Map(location=[36.5, 127.5], zoom_start=7)\n",
    "\n",
    "# Choropleth 생성\n",
    "folium.Choropleth(\n",
    "    geo_data=geo_json,\n",
    "    name='choropleth',\n",
    "    data=df,\n",
    "    columns=['시도별', '2021'],\n",
    "    key_on='feature.properties.name',\n",
    "    fill_color='YlGnBu',\n",
    "    fill_opacity=0.7,\n",
    "    line_opacity=0.2,\n",
    "    legend_name='2021 사교육비'\n",
    ").add_to(m)\n",
    "\n",
    "# 지도를 HTML 파일로 저장\n",
    "m.save('choropleth_map.html')\n"
   ]
  },
  {
   "cell_type": "code",
   "execution_count": null,
   "id": "ff08d04d",
   "metadata": {},
   "outputs": [],
   "source": []
  }
 ],
 "metadata": {
  "kernelspec": {
   "display_name": "Python 3 (ipykernel)",
   "language": "python",
   "name": "python3"
  },
  "language_info": {
   "codemirror_mode": {
    "name": "ipython",
    "version": 3
   },
   "file_extension": ".py",
   "mimetype": "text/x-python",
   "name": "python",
   "nbconvert_exporter": "python",
   "pygments_lexer": "ipython3",
   "version": "3.10.9"
  }
 },
 "nbformat": 4,
 "nbformat_minor": 5
}
